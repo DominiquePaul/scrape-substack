{
 "cells": [
  {
   "cell_type": "code",
   "execution_count": 2,
   "metadata": {},
   "outputs": [],
   "source": [
    "import requests\n",
    "from bs4 import BeautifulSoup"
   ]
  },
  {
   "cell_type": "markdown",
   "metadata": {},
   "source": [
    "Notes - https://substack.com/api/v1/reader/feed/profile/98507360\n",
    "\n",
    "Posts - https://substack.com/api/v1/profile/posts?profile_user_id=98507360&offset=0&limit=13\n",
    "\n",
    "Likes - https://substack.com/api/v1/reader/feed/profile/98507360?types%5B%5D=like\n",
    "\n",
    "Reads - From \"subscriptions\" in public profile data?\n",
    "\n",
    "Public profile - https://substack.com/api/v1/user/renegvolpi/public_profile"
   ]
  },
  {
   "cell_type": "code",
   "execution_count": 3,
   "metadata": {},
   "outputs": [],
   "source": [
    "d = requests.get(\"https://substack.com/api/v1/user/unskool/public_profile\")"
   ]
  },
  {
   "cell_type": "code",
   "execution_count": 4,
   "metadata": {},
   "outputs": [],
   "source": [
    "data = d.json()"
   ]
  },
  {
   "cell_type": "code",
   "execution_count": 7,
   "metadata": {},
   "outputs": [],
   "source": [
    "tid = data[\"id\"]"
   ]
  },
  {
   "cell_type": "code",
   "execution_count": 8,
   "metadata": {},
   "outputs": [],
   "source": [
    "likes = requests.get(\n",
    "    f\"https://substack.com/api/v1/reader/feed/profile/{tid}?types%5B%5D=like\"\n",
    ")"
   ]
  },
  {
   "cell_type": "code",
   "execution_count": 10,
   "metadata": {},
   "outputs": [],
   "source": [
    "likes = likes.json()"
   ]
  },
  {
   "cell_type": "code",
   "execution_count": 13,
   "metadata": {},
   "outputs": [
    {
     "data": {
      "text/plain": [
       "{'entity_key': 'c-52983670',\n",
       " 'type': 'comment',\n",
       " 'context': {'type': 'note_like',\n",
       "  'timestamp': '2024-04-02T21:37:51.413Z',\n",
       "  'users': [{'id': 92183840,\n",
       "    'name': 'Unskool',\n",
       "    'handle': 'unskool',\n",
       "    'previous_name': 'Unskooled',\n",
       "    'photo_url': 'https://substack-post-media.s3.amazonaws.com/public/images/42094047-77b8-4ccb-8781-14ae07f41188_512x768.jpeg',\n",
       "    'bio': '\"When you take the free will out of education, that turns it into schooling.\" -- John Taylor Gatto',\n",
       "    'profile_set_up_at': '2022-05-20T17:13:33.272Z',\n",
       "    'bestseller_tier': None,\n",
       "    'primary_publication': {'id': 896952,\n",
       "     'subdomain': 'unskool',\n",
       "     'custom_domain_optional': False,\n",
       "     'name': \"Unskool's Newsletter\",\n",
       "     'logo_url': 'https://substack-post-media.s3.amazonaws.com/public/images/b1d60681-2b70-4526-a653-17dc582c96f0_96x96.png',\n",
       "     'author_id': 92183840,\n",
       "     'handles_enabled': False,\n",
       "     'explicit': False}}],\n",
       "  'fallbackReason': '//TODO: create fallback reasons',\n",
       "  'fallbackUrl': None,\n",
       "  'isFresh': False,\n",
       "  'source': 'db-like'},\n",
       " 'publication': None,\n",
       " 'post': None,\n",
       " 'comment': {'name': 'Rand Paul Review',\n",
       "  'handle': 'randpaulreview',\n",
       "  'photo_url': 'https://substack-post-media.s3.amazonaws.com/public/images/76609f9a-10b8-4fc3-a4c1-ba5df6e2982e_96x96.jpeg',\n",
       "  'id': 52983670,\n",
       "  'body': '',\n",
       "  'body_json': None,\n",
       "  'publication_id': None,\n",
       "  'post_id': None,\n",
       "  'user_id': 93763772,\n",
       "  'type': 'feed',\n",
       "  'date': '2024-04-02T02:44:04.372Z',\n",
       "  'edited_at': None,\n",
       "  'ancestor_path': '',\n",
       "  'reply_minimum_role': 'everyone',\n",
       "  'reaction_count': 249,\n",
       "  'reactions': {'❤': 249},\n",
       "  'restacks': 29,\n",
       "  'restacked': False,\n",
       "  'children_count': 5,\n",
       "  'attachments': [{'id': '8a46153b-b8f7-46a6-a976-b2a82aaec300',\n",
       "    'type': 'image',\n",
       "    'imageUrl': 'https://substack-post-media.s3.amazonaws.com/public/images/88b59f59-4c86-4881-8a5f-0cce5aa64d70_1080x903.png',\n",
       "    'imageWidth': 1080,\n",
       "    'imageHeight': 903,\n",
       "    'explicit': False}],\n",
       "  'user_bestseller_tier': None,\n",
       "  'user_primary_publication': {'id': 1627785,\n",
       "   'subdomain': 'randpaulreview',\n",
       "   'custom_domain_optional': False,\n",
       "   'name': 'Rand Paul Review',\n",
       "   'author_id': 93763772,\n",
       "   'handles_enabled': False,\n",
       "   'explicit': False}},\n",
       " 'parentComments': [],\n",
       " 'canReply': True,\n",
       " 'trackingParameters': {'item_primary_entity_key': 'c-52983670',\n",
       "  'item_entity_key': 'c-52983670',\n",
       "  'item_type': 'comment',\n",
       "  'item_comment_id': 52983670,\n",
       "  'item_content_user_id': 93763772,\n",
       "  'item_context_type': 'note_like',\n",
       "  'item_context_type_bucket': '',\n",
       "  'item_context_timestamp': '2024-04-02T21:37:51.413Z',\n",
       "  'item_context_user_id': 92183840,\n",
       "  'item_context_user_ids': [92183840],\n",
       "  'item_can_reply': True,\n",
       "  'item_is_fresh': False,\n",
       "  'item_source': 'db-like'}}"
      ]
     },
     "execution_count": 13,
     "metadata": {},
     "output_type": "execute_result"
    }
   ],
   "source": [
    "likes[\"items\"][0]"
   ]
  },
  {
   "cell_type": "code",
   "execution_count": null,
   "metadata": {},
   "outputs": [],
   "source": []
  }
 ],
 "metadata": {
  "kernelspec": {
   "display_name": "substack",
   "language": "python",
   "name": "python3"
  },
  "language_info": {
   "codemirror_mode": {
    "name": "ipython",
    "version": 3
   },
   "file_extension": ".py",
   "mimetype": "text/x-python",
   "name": "python",
   "nbconvert_exporter": "python",
   "pygments_lexer": "ipython3",
   "version": "3.8.8"
  }
 },
 "nbformat": 4,
 "nbformat_minor": 2
}
