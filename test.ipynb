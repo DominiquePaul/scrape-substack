{
 "cells": [
  {
   "cell_type": "code",
   "execution_count": 4,
   "metadata": {},
   "outputs": [],
   "source": [
    "import requests\n",
    "from bs4 import BeautifulSoup"
   ]
  },
  {
   "cell_type": "code",
   "execution_count": 2,
   "metadata": {},
   "outputs": [],
   "source": [
    "d = requests.get(\"https://substack.com/@oneusefulthing/reads\")"
   ]
  },
  {
   "cell_type": "code",
   "execution_count": 5,
   "metadata": {},
   "outputs": [],
   "source": [
    "soup = BeautifulSoup(d.text)"
   ]
  },
  {
   "cell_type": "code",
   "execution_count": 15,
   "metadata": {},
   "outputs": [
    {
     "data": {
      "text/plain": [
       "[<a class=\"pencraft pc-display-flex pc-paddingLeft-8 pc-paddingRight-8 pc-reset\" href=\"/home\"><svg class=\"frontend-reader2-Nav-module__logo--wRSQX\" fill=\"#ff6719\" height=\"18\" role=\"img\" stroke=\"none\" stroke-width=\"1.8\" viewbox=\"0 0 16 18\" width=\"16\" xmlns=\"http://www.w3.org/2000/svg\"><g><title></title><path d=\"M16 4H0V6H16V4Z\"></path><path d=\"M0 8V18L7.9993 13.534L16 18V8H0Z\"></path><path d=\"M16 0H0V2H16V0Z\"></path></g></svg></a>,\n",
       " <a class=\"pencraft pc-reset pencraft reader-nav-item reader2-clickable active\"><div class=\"pencraft pc-display-flex pc-reset frontend-reader2-Nav-module__navIcon--mjRXu\"><svg class=\"frontend-reader2-Nav-module__navIcon--mjRXu\" fill=\"none\" height=\"24\" role=\"img\" stroke=\"#000\" stroke-width=\"1.8\" viewbox=\"0 0 24 24\" width=\"24\" xmlns=\"http://www.w3.org/2000/svg\"><g><title></title><path d=\"M3.00034 9.4876C3.00034 9.17901 3.14281 8.88919 3.3864 8.69973L12.0003 2L20.6143 8.69973C20.8579 8.88919 21.0003 9.17923 21.0003 9.48782C21.0003 12.4545 21.0003 22 21.0003 22H15V15C15 13.3431 13.6569 12 12 12V12C10.3431 12 9 13.3431 9 15V22H3C3 22 3.00032 13.9501 3.00034 9.4876Z\" stroke-linecap=\"round\" stroke-linejoin=\"round\"></path></g></svg></div><span class=\"reader-nav-item-children\"><div class=\"pencraft pc-reset frontend-pencraft-Text-module__line-height-20--p0dP8 frontend-pencraft-Text-module__font-text--QmNJR frontend-pencraft-Text-module__size-15--dGeLE frontend-pencraft-Text-module__weight-medium--x7khA frontend-pencraft-Text-module__reset--dW0zZ\">Home</div></span></a>,\n",
       " <a class=\"pencraft pc-reset pencraft reader-nav-item reader2-clickable frontend-reader2-Nav-module__isLocked--N2M9M\" native=\"\"><div class=\"pencraft pc-display-flex pc-reset frontend-reader2-Nav-module__navIcon--mjRXu\"><svg class=\"frontend-reader2-Nav-module__navIcon--mjRXu\" fill=\"none\" height=\"24\" role=\"img\" stroke=\"#000\" stroke-width=\"1.8\" viewbox=\"0 0 24 24\" width=\"24\" xmlns=\"http://www.w3.org/2000/svg\"><g><title></title><path d=\"M22 12L16 12L14 15L10 15L8 12L2 12\" stroke-linecap=\"round\" stroke-linejoin=\"round\"></path><path d=\"M5.45 5.11L2.10583 11.7886C2.03624 11.9276 2 12.0809 2 12.2364L2 18C2 18.5304 2.21071 19.0391 2.58579 19.4142C2.96086 19.7893 3.46957 20 4 20L20 20C20.5304 20 21.0391 19.7893 21.4142 19.4142C21.7893 19.0391 22 18.5304 22 18V12.2364C22 12.0809 21.9638 11.9276 21.8942 11.7886L18.55 5.11C18.3844 4.77679 18.1292 4.49637 17.813 4.30028C17.4967 4.10419 17.1321 4.0002 16.76 4L7.24 4C6.86792 4.0002 6.50326 4.10419 6.18705 4.30028C5.87083 4.49637 5.61558 4.77679 5.45 5.11Z\" stroke-linecap=\"round\" stroke-linejoin=\"round\"></path></g></svg></div><span class=\"reader-nav-item-children\"><div class=\"pencraft pc-reset frontend-pencraft-Text-module__line-height-20--p0dP8 frontend-pencraft-Text-module__font-text--QmNJR frontend-pencraft-Text-module__size-15--dGeLE frontend-pencraft-Text-module__weight-medium--x7khA frontend-pencraft-Text-module__reset--dW0zZ\">Inbox</div></span><svg class=\"lucide lucide-lock\" fill=\"none\" height=\"16\" stroke=\"currentColor\" stroke-linecap=\"round\" stroke-linejoin=\"round\" stroke-width=\"2\" viewbox=\"0 0 24 24\" width=\"16\" xmlns=\"http://www.w3.org/2000/svg\"><rect height=\"11\" rx=\"2\" ry=\"2\" width=\"18\" x=\"3\" y=\"11\"></rect><path d=\"M7 11V7a5 5 0 0 1 10 0v4\"></path></svg></a>,\n",
       " <a class=\"pencraft pc-reset pencraft reader-nav-item reader2-clickable frontend-reader2-Nav-module__isLocked--N2M9M\" native=\"\"><div class=\"pencraft pc-display-flex pc-reset frontend-reader2-Nav-module__navIcon--mjRXu\"><svg class=\"frontend-reader2-Nav-module__navIcon--mjRXu\" fill=\"none\" height=\"24\" role=\"img\" stroke=\"#000\" stroke-width=\"1.8\" viewbox=\"0 0 24 24\" width=\"24\" xmlns=\"http://www.w3.org/2000/svg\"><g><title></title><path d=\"M3 3H17C18.1046 3 19 3.89543 19 5V9.75008H11C9.89543 9.75008 9 10.6455 9 11.7501V16.7501C9 16.8314 9.00486 16.9117 9.0143 16.9905L4.65547 19.8964C4.58901 19.9407 4.5 19.893 4.5 19.8131V15H3C1.89543 15 1 14.1046 1 13V5C1 3.89543 1.89543 3 3 3Z\"></path><path d=\"M11 9.75L20.5 9.75C21.6046 9.75 22.5 10.6454 22.5 11.75V16.75C22.5 17.8546 21.6046 18.75 20.5 18.75H20V22.3108C20 22.3911 19.91 22.4387 19.8437 22.3934L14.5 18.75L11 18.75C9.89543 18.75 9 17.8546 9 16.75L9 11.75C9 10.6454 9.89543 9.75 11 9.75Z\"></path></g></svg></div><span class=\"reader-nav-item-children\"><div class=\"pencraft pc-reset frontend-pencraft-Text-module__line-height-20--p0dP8 frontend-pencraft-Text-module__font-text--QmNJR frontend-pencraft-Text-module__size-15--dGeLE frontend-pencraft-Text-module__weight-medium--x7khA frontend-pencraft-Text-module__reset--dW0zZ\">Chat</div></span><svg class=\"lucide lucide-lock\" fill=\"none\" height=\"16\" stroke=\"currentColor\" stroke-linecap=\"round\" stroke-linejoin=\"round\" stroke-width=\"2\" viewbox=\"0 0 24 24\" width=\"16\" xmlns=\"http://www.w3.org/2000/svg\"><rect height=\"11\" rx=\"2\" ry=\"2\" width=\"18\" x=\"3\" y=\"11\"></rect><path d=\"M7 11V7a5 5 0 0 1 10 0v4\"></path></svg></a>,\n",
       " <a class=\"pencraft pc-reset pencraft reader-nav-item reader2-clickable frontend-reader2-Nav-module__isLocked--N2M9M\" native=\"\"><div class=\"pencraft pc-display-flex pc-reset frontend-reader2-Nav-module__navIcon--mjRXu\"><svg class=\"frontend-reader2-Nav-module__navIcon--mjRXu\" fill=\"none\" height=\"24\" role=\"img\" stroke=\"#000\" stroke-width=\"1.8\" viewbox=\"0 0 24 24\" width=\"24\" xmlns=\"http://www.w3.org/2000/svg\"><g><title></title><path d=\"M13.73 21C13.5542 21.3031 13.3018 21.5547 12.9982 21.7295C12.6946 21.9044 12.3504 21.9965 12 21.9965C11.6496 21.9965 11.3054 21.9044 11.0018 21.7295C10.6982 21.5547 10.4458 21.3031 10.27 21M18 8C18 6.4087 17.3679 4.88258 16.2426 3.75736C15.1174 2.63214 13.5913 2 12 2C10.4087 2 8.88258 2.63214 7.75736 3.75736C6.63214 4.88258 6 6.4087 6 8C6 15 3 17 3 17H21C21 17 18 15 18 8Z\" stroke-linecap=\"round\" stroke-linejoin=\"round\"></path></g></svg></div><span class=\"reader-nav-item-children\"><div class=\"pencraft pc-reset frontend-pencraft-Text-module__line-height-20--p0dP8 frontend-pencraft-Text-module__font-text--QmNJR frontend-pencraft-Text-module__size-15--dGeLE frontend-pencraft-Text-module__weight-medium--x7khA frontend-pencraft-Text-module__reset--dW0zZ\">Activity</div></span><svg class=\"lucide lucide-lock\" fill=\"none\" height=\"16\" stroke=\"currentColor\" stroke-linecap=\"round\" stroke-linejoin=\"round\" stroke-width=\"2\" viewbox=\"0 0 24 24\" width=\"16\" xmlns=\"http://www.w3.org/2000/svg\"><rect height=\"11\" rx=\"2\" ry=\"2\" width=\"18\" x=\"3\" y=\"11\"></rect><path d=\"M7 11V7a5 5 0 0 1 10 0v4\"></path></svg></a>,\n",
       " <a class=\"pencraft pc-reset pencraft reader-nav-item reader2-clickable\" href=\"/browse/staff-picks\"><div class=\"pencraft pc-display-flex pc-reset frontend-reader2-Nav-module__navIcon--mjRXu\"><svg class=\"frontend-reader2-Nav-module__navIcon--mjRXu\" fill=\"none\" height=\"24\" role=\"img\" stroke=\"#000\" stroke-width=\"1.8\" viewbox=\"0 0 24 24\" width=\"24\" xmlns=\"http://www.w3.org/2000/svg\"><g><title></title><path d=\"M12 22C17.5228 22 22 17.5228 22 12C22 6.47715 17.5228 2 12 2C6.47715 2 2 6.47715 2 12C2 17.5228 6.47715 22 12 22Z\" stroke-linecap=\"round\" stroke-linejoin=\"round\"></path><path d=\"M16.2398 7.75977L14.1198 14.1198L7.75977 16.2398L9.87977 9.87977L16.2398 7.75977Z\" stroke-linecap=\"round\" stroke-linejoin=\"round\"></path></g></svg></div><span class=\"reader-nav-item-children\"><div class=\"pencraft pc-reset frontend-pencraft-Text-module__line-height-20--p0dP8 frontend-pencraft-Text-module__font-text--QmNJR frontend-pencraft-Text-module__size-15--dGeLE frontend-pencraft-Text-module__weight-medium--x7khA frontend-pencraft-Text-module__reset--dW0zZ\">Explore</div></span></a>,\n",
       " <a class=\"pencraft pc-reset pencraft reader-nav-item reader2-clickable frontend-reader2-Nav-module__isLocked--N2M9M\" native=\"\"><div class=\"pencraft pc-display-flex pc-reset frontend-reader2-Nav-module__navIcon--mjRXu\"><svg class=\"frontend-reader2-Nav-module__navIcon--mjRXu\" fill=\"none\" height=\"24\" role=\"img\" stroke=\"#000\" stroke-width=\"1.8\" viewbox=\"0 0 24 24\" width=\"24\" xmlns=\"http://www.w3.org/2000/svg\"><g><title></title><path d=\"M20 21V19C20 17.9391 19.5786 16.9217 18.8284 16.1716C18.0783 15.4214 17.0609 15 16 15L8 15C6.93913 15 5.92172 15.4214 5.17157 16.1716C4.42143 16.9217 4 17.9391 4 19L4 21\" stroke-linecap=\"round\" stroke-linejoin=\"round\"></path><path d=\"M12 11C14.2091 11 16 9.20914 16 7C16 4.79086 14.2091 3 12 3C9.79086 3 8 4.79086 8 7C8 9.20914 9.79086 11 12 11Z\" stroke-linecap=\"round\" stroke-linejoin=\"round\"></path></g></svg></div><span class=\"reader-nav-item-children\"><div class=\"pencraft pc-reset frontend-pencraft-Text-module__line-height-20--p0dP8 frontend-pencraft-Text-module__font-text--QmNJR frontend-pencraft-Text-module__size-15--dGeLE frontend-pencraft-Text-module__weight-medium--x7khA frontend-pencraft-Text-module__reset--dW0zZ\">Profile</div></span><svg class=\"lucide lucide-lock\" fill=\"none\" height=\"16\" stroke=\"currentColor\" stroke-linecap=\"round\" stroke-linejoin=\"round\" stroke-width=\"2\" viewbox=\"0 0 24 24\" width=\"16\" xmlns=\"http://www.w3.org/2000/svg\"><rect height=\"11\" rx=\"2\" ry=\"2\" width=\"18\" x=\"3\" y=\"11\"></rect><path d=\"M7 11V7a5 5 0 0 1 10 0v4\"></path></svg></a>,\n",
       " <a href=\"https://enable-javascript.com/\" target=\"_blank\">turn on JavaScript</a>]"
      ]
     },
     "execution_count": 15,
     "metadata": {},
     "output_type": "execute_result"
    }
   ],
   "source": [
    "soup.find_all(\"a\")"
   ]
  },
  {
   "cell_type": "code",
   "execution_count": null,
   "metadata": {},
   "outputs": [],
   "source": []
  }
 ],
 "metadata": {
  "kernelspec": {
   "display_name": "substack",
   "language": "python",
   "name": "python3"
  },
  "language_info": {
   "codemirror_mode": {
    "name": "ipython",
    "version": 3
   },
   "file_extension": ".py",
   "mimetype": "text/x-python",
   "name": "python",
   "nbconvert_exporter": "python",
   "pygments_lexer": "ipython3",
   "version": "3.8.8"
  }
 },
 "nbformat": 4,
 "nbformat_minor": 2
}
