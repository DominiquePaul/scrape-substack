{
 "cells": [
  {
   "cell_type": "code",
   "execution_count": 2,
   "metadata": {},
   "outputs": [],
   "source": [
    "import requests\n",
    "from bs4 import BeautifulSoup"
   ]
  },
  {
   "cell_type": "markdown",
   "metadata": {},
   "source": [
    "Notes - https://substack.com/api/v1/reader/feed/profile/98507360\n",
    "\n",
    "Posts - https://substack.com/api/v1/profile/posts?profile_user_id=98507360&offset=0&limit=13\n",
    "\n",
    "Likes - https://substack.com/api/v1/reader/feed/profile/98507360?types%5B%5D=like\n",
    "\n",
    "Reads - From \"subscriptions\" in public profile data?\n",
    "\n",
    "Public profile - https://substack.com/api/v1/user/renegvolpi/public_profile"
   ]
  },
  {
   "cell_type": "code",
   "execution_count": 3,
   "metadata": {},
   "outputs": [],
   "source": [
    "d = requests.get(\"https://substack.com/api/v1/user/unskool/public_profile\")"
   ]
  },
  {
   "cell_type": "code",
   "execution_count": 4,
   "metadata": {},
   "outputs": [],
   "source": [
    "data = d.json()"
   ]
  },
  {
   "cell_type": "code",
   "execution_count": 7,
   "metadata": {},
   "outputs": [],
   "source": [
    "tid = data[\"id\"]"
   ]
  },
  {
   "cell_type": "code",
   "execution_count": 18,
   "metadata": {},
   "outputs": [],
   "source": [
    "notes = requests.get(f\"https://substack.com/api/v1/reader/feed/profile/{tid}\")"
   ]
  },
  {
   "cell_type": "code",
   "execution_count": 19,
   "metadata": {},
   "outputs": [],
   "source": [
    "notes = notes.json()"
   ]
  },
  {
   "cell_type": "code",
   "execution_count": 21,
   "metadata": {},
   "outputs": [
    {
     "data": {
      "text/plain": [
       "{'entity_key': 'c-53045960',\n",
       " 'type': 'comment',\n",
       " 'context': {'type': 'note',\n",
       "  'timestamp': '2024-04-02T21:37:44.332Z',\n",
       "  'users': [{'id': 92183840,\n",
       "    'name': 'Unskool',\n",
       "    'handle': 'unskool',\n",
       "    'previous_name': 'Unskooled',\n",
       "    'photo_url': 'https://substack-post-media.s3.amazonaws.com/public/images/42094047-77b8-4ccb-8781-14ae07f41188_512x768.jpeg',\n",
       "    'bio': '\"When you take the free will out of education, that turns it into schooling.\" -- John Taylor Gatto',\n",
       "    'profile_set_up_at': '2022-05-20T17:13:33.272Z',\n",
       "    'bestseller_tier': None,\n",
       "    'primary_publication': {'id': 896952,\n",
       "     'subdomain': 'unskool',\n",
       "     'custom_domain_optional': False,\n",
       "     'name': \"Unskool's Newsletter\",\n",
       "     'logo_url': 'https://substack-post-media.s3.amazonaws.com/public/images/b1d60681-2b70-4526-a653-17dc582c96f0_96x96.png',\n",
       "     'author_id': 92183840,\n",
       "     'handles_enabled': False,\n",
       "     'explicit': False}}],\n",
       "  'fallbackReason': '//TODO: create fallback reasons',\n",
       "  'fallbackUrl': None,\n",
       "  'isFresh': False,\n",
       "  'source': 'db-note'},\n",
       " 'publication': None,\n",
       " 'post': None,\n",
       " 'comment': {'name': 'Unskool',\n",
       "  'handle': 'unskool',\n",
       "  'photo_url': 'https://substack-post-media.s3.amazonaws.com/public/images/42094047-77b8-4ccb-8781-14ae07f41188_512x768.jpeg',\n",
       "  'id': 53045960,\n",
       "  'body': 'Heck yeah',\n",
       "  'body_json': {'type': 'doc',\n",
       "   'attrs': {'schemaVersion': 'v1'},\n",
       "   'content': [{'type': 'paragraph',\n",
       "     'content': [{'type': 'text', 'text': 'Heck yeah'}]}]},\n",
       "  'publication_id': None,\n",
       "  'post_id': None,\n",
       "  'user_id': 92183840,\n",
       "  'type': 'feed',\n",
       "  'date': '2024-04-02T21:37:44.332Z',\n",
       "  'edited_at': None,\n",
       "  'ancestor_path': '',\n",
       "  'reply_minimum_role': 'everyone',\n",
       "  'reaction_count': 69,\n",
       "  'reactions': {'❤': 69},\n",
       "  'restacks': 6,\n",
       "  'restacked': False,\n",
       "  'children_count': 3,\n",
       "  'attachments': [{'id': 'b6d461de-7302-4341-a2d0-e1056aac59c7',\n",
       "    'type': 'image',\n",
       "    'imageUrl': 'https://substack-post-media.s3.amazonaws.com/public/images/dc2f8900-48cc-4cce-a839-d1441b020f03_960x952.jpeg',\n",
       "    'imageWidth': 960,\n",
       "    'imageHeight': 952,\n",
       "    'explicit': False}],\n",
       "  'user_bestseller_tier': None,\n",
       "  'user_primary_publication': {'id': 896952,\n",
       "   'subdomain': 'unskool',\n",
       "   'custom_domain_optional': False,\n",
       "   'name': \"Unskool's Newsletter\",\n",
       "   'logo_url': 'https://substack-post-media.s3.amazonaws.com/public/images/b1d60681-2b70-4526-a653-17dc582c96f0_96x96.png',\n",
       "   'author_id': 92183840,\n",
       "   'handles_enabled': False,\n",
       "   'explicit': False}},\n",
       " 'parentComments': [],\n",
       " 'canReply': True,\n",
       " 'trackingParameters': {'item_primary_entity_key': 'c-53045960',\n",
       "  'item_entity_key': 'c-53045960',\n",
       "  'item_type': 'comment',\n",
       "  'item_comment_id': 53045960,\n",
       "  'item_content_user_id': 92183840,\n",
       "  'item_context_type': 'note',\n",
       "  'item_context_type_bucket': '',\n",
       "  'item_context_timestamp': '2024-04-02T21:37:44.332Z',\n",
       "  'item_context_user_id': 92183840,\n",
       "  'item_context_user_ids': [92183840],\n",
       "  'item_can_reply': True,\n",
       "  'item_is_fresh': False,\n",
       "  'item_source': 'db-note'}}"
      ]
     },
     "execution_count": 21,
     "metadata": {},
     "output_type": "execute_result"
    }
   ],
   "source": [
    "notes[\"items\"][0]"
   ]
  },
  {
   "cell_type": "code",
   "execution_count": 22,
   "metadata": {},
   "outputs": [],
   "source": [
    "recs = requests.get(\"https://unskool.substack.com/recommendations\")"
   ]
  },
  {
   "cell_type": "code",
   "execution_count": 24,
   "metadata": {},
   "outputs": [],
   "source": [
    "soup = BeautifulSoup(recs.text, \"html.parser\")"
   ]
  },
  {
   "cell_type": "code",
   "execution_count": 39,
   "metadata": {},
   "outputs": [
    {
     "data": {
      "text/plain": [
       "[('Rand Paul Review', 'https://randpaulreview.substack.com/'),\n",
       " ('Timeless - With Felix Purat', 'https://timelessfelixpurat.substack.com/'),\n",
       " ('Krononaut’s Substack', 'https://krononaut.substack.com/'),\n",
       " ('TFMDMIA', 'https://eiblegacy.substack.com/'),\n",
       " ('Keep your Wokal_distance', 'https://wokaldistance.substack.com/'),\n",
       " ('Jon Rappoport', 'https://jonrappoport.substack.com/'),\n",
       " ('Heterodox STEM', 'https://hxstem.substack.com/'),\n",
       " ('Peter Boghossian ', 'https://boghossian.substack.com/'),\n",
       " ('A Path Through', 'https://apaththrough.substack.com/'),\n",
       " ('The Free Press', 'https://www.thefp.com/'),\n",
       " ('The Truth Fairy', 'https://www.thetruthfairy.info/'),\n",
       " ('Racket News', 'https://www.racket.news/')]"
      ]
     },
     "execution_count": 39,
     "metadata": {},
     "output_type": "execute_result"
    }
   ],
   "source": [
    "div_elements = soup.find_all(\"div\", class_=\"publication-content\")\n",
    "a_elements = [div.find(\"a\") for div in div_elements]\n",
    "titles = [i.text for i in soup.find_all(\"div\", {\"class\": \"publication-title\"})]\n",
    "links = [i[\"href\"].split(\"?\")[0] for i in a_elements]\n",
    "list(zip(titles, links))\n"
   ]
  }
 ],
 "metadata": {
  "kernelspec": {
   "display_name": "substack",
   "language": "python",
   "name": "python3"
  },
  "language_info": {
   "codemirror_mode": {
    "name": "ipython",
    "version": 3
   },
   "file_extension": ".py",
   "mimetype": "text/x-python",
   "name": "python",
   "nbconvert_exporter": "python",
   "pygments_lexer": "ipython3",
   "version": "3.8.8"
  }
 },
 "nbformat": 4,
 "nbformat_minor": 2
}
